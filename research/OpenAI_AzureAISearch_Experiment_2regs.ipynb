{
 "cells": [
  {
   "cell_type": "markdown",
   "metadata": {},
   "source": [
    "### Import Necessary Packages"
   ]
  },
  {
   "cell_type": "code",
   "execution_count": 31,
   "metadata": {},
   "outputs": [],
   "source": [
    "import openai\n",
    "import os\n",
    "from langchain_openai import OpenAIEmbeddings\n",
    "from langchain_openai import ChatOpenAI\n",
    "from dotenv import load_dotenv\n",
    "from langchain.document_loaders import PyPDFLoader\n",
    "from langchain.llms import AzureOpenAI\n",
    "\n",
    "from langchain.vectorstores import AzureSearch\n",
    "from langchain.document_loaders import DirectoryLoader\n",
    "from langchain.document_loaders import TextLoader\n",
    "from langchain.text_splitter import RecursiveCharacterTextSplitter\n",
    "from langchain.chains import ConversationalRetrievalChain\n",
    "from langchain.prompts import PromptTemplate\n",
    "from langchain_core.runnables import RunnablePassthrough\n",
    "import azure.identity\n",
    "\n",
    "\n",
    "import pyodbc\n",
    "import json\n",
    "\n",
    "import warnings\n",
    "warnings.filterwarnings('ignore')"
   ]
  },
  {
   "cell_type": "markdown",
   "metadata": {},
   "source": [
    "### Connect to LLM and Embeddings"
   ]
  },
  {
   "cell_type": "code",
   "execution_count": 32,
   "metadata": {},
   "outputs": [
    {
     "name": "stdout",
     "output_type": "stream",
     "text": [
      "Establishing connection with GPT-4 Turbo OpenAI LLM.\n",
      "Established connection with GPT-4 Turbo OpenAI LLM.\n",
      "Fetching GPT-4 OpenAI Embeddings.\n",
      "Fetched with GPT-4 OpenAI Embeddings.\n"
     ]
    }
   ],
   "source": [
    "from langchain_openai import AzureOpenAIEmbeddings\n",
    "from langchain_openai import AzureOpenAI\n",
    "from langchain.chat_models import AzureChatOpenAI\n",
    "\n",
    "load_dotenv() # Load environment variables from the .env file\n",
    "deployment_name                       = \"CART\"\n",
    "embedding_deployment_name             = os.getenv(\"embedding_deployment_name\") \n",
    "AZURE_OPENAI_API_TYPE                 = os.getenv(\"AZURE_OPENAI_API_TYPE\")\n",
    "AZURE_OPENAI_API_KEY                  = os.getenv(\"AZURE_OPENAI_API_KEY\")\n",
    "AZURE_OPENAI_ENDPOINT                 = os.getenv(\"AZURE_OPENAI_API_BASE\")\n",
    "AZURE_OPENAI_API_VERSION              = os.getenv(\"AZURE_OPENAI_API_VERSION_CHAT\")\n",
    "AZURE_OPENAI_API_VERSION_EMBEDDING    = os.getenv(\"AZURE_OPENAI_API_VERSION_EMBEDDING\")\n",
    "\n",
    "os.environ[\"OPENAI_API_VERSION\"]      = AZURE_OPENAI_API_VERSION\n",
    "os.environ[\"AZURE_OPENAI_ENDPOINT\"]   = AZURE_OPENAI_ENDPOINT\n",
    "os.environ[\"AZURE_OPENAI_API_KEY\"]    = AZURE_OPENAI_API_KEY\n",
    "\n",
    "print(\"Establishing connection with GPT-4 Turbo OpenAI LLM.\")\n",
    "llm = AzureChatOpenAI(\n",
    "                        deployment_name = deployment_name,\n",
    "                        temperature=0.0\n",
    "                    )\n",
    "print(\"Established connection with GPT-4 Turbo OpenAI LLM.\")\n",
    "\n",
    "print(\"Fetching GPT-4 OpenAI Embeddings.\")\n",
    "embeddings_model = AzureOpenAIEmbeddings(\n",
    "                                            model          = \"text-embedding-ada-002\",\n",
    "                                            azure_endpoint = AZURE_OPENAI_ENDPOINT,\n",
    "                                            api_key        = AZURE_OPENAI_API_KEY,\n",
    "                                            openai_api_version = AZURE_OPENAI_API_VERSION_EMBEDDING\n",
    "                                        )\n",
    "print(\"Fetched with GPT-4 OpenAI Embeddings.\")"
   ]
  },
  {
   "cell_type": "code",
   "execution_count": 33,
   "metadata": {},
   "outputs": [
    {
     "name": "stdout",
     "output_type": "stream",
     "text": [
      "content='Why did the tomato turn red?\\n\\nBecause it saw the salad dressing!' additional_kwargs={} response_metadata={'token_usage': {'completion_tokens': 14, 'prompt_tokens': 13, 'total_tokens': 27, 'completion_tokens_details': None}, 'model_name': 'gpt-35-turbo', 'system_fingerprint': None, 'finish_reason': 'stop', 'logprobs': None} id='run-9a2b0a5b-998e-44f6-a0de-c42ebba89349-0'\n"
     ]
    }
   ],
   "source": [
    "print(llm.invoke(\"Tell me a joke.\"))"
   ]
  },
  {
   "cell_type": "code",
   "execution_count": 34,
   "metadata": {},
   "outputs": [],
   "source": [
    "#embeddings_model.embed_query(\"Tell me a joke.\")"
   ]
  },
  {
   "cell_type": "markdown",
   "metadata": {},
   "source": [
    "### Connect to Azure AI Search"
   ]
  },
  {
   "cell_type": "code",
   "execution_count": 35,
   "metadata": {},
   "outputs": [
    {
     "name": "stdout",
     "output_type": "stream",
     "text": [
      "Initializing Azure Search.\n",
      "AzureSearch client initialized successfully.\n"
     ]
    }
   ],
   "source": [
    "AZURE_COGNITIVE_SEARCH_SERVICE_NAME     = os.getenv(\"AZURE_COGNITIVE_SEARCH_SERVICE_NAME\")\n",
    "AZURE_COGNITIVE_SEARCH_API_KEY          = os.getenv(\"AZURE_COGNITIVE_SEARCH_API_KEY\")\n",
    "AZURE_COGNITIVE_SEARCH_INDEX_NAME       = os.getenv(\"AZURE_COGNITIVE_SEARCH_INDEX_NAME\")\n",
    "AZURE_COGNITIVE_SEARCH_SERVICE_ENDPOINT =  f\"https://{AZURE_COGNITIVE_SEARCH_SERVICE_NAME}.search.windows.net\"\n",
    "\n",
    "\n",
    "print(\"Initializing Azure Search.\")\n",
    "\n",
    "Azure_Client = AzureSearch(\n",
    "                                 azure_search_endpoint = AZURE_COGNITIVE_SEARCH_SERVICE_ENDPOINT,\n",
    "                                 azure_search_key      = AZURE_COGNITIVE_SEARCH_API_KEY,\n",
    "                                 index_name            = AZURE_COGNITIVE_SEARCH_INDEX_NAME,\n",
    "                                 embedding_function    = embeddings_model.embed_query ,\n",
    "                          )\n",
    "\n",
    "print(\"AzureSearch client initialized successfully.\")"
   ]
  },
  {
   "cell_type": "markdown",
   "metadata": {},
   "source": [
    "### Load PDF into Azure AI Search"
   ]
  },
  {
   "cell_type": "code",
   "execution_count": 36,
   "metadata": {},
   "outputs": [],
   "source": [
    "# from langchain.docstore.document import Document\n",
    "\n",
    "# # Define the paths for all regulations\n",
    "# regulation_files = [\n",
    "#     {\"regulation_name\": \"Reg AA\", \"path\": r\"C:\\GenAI\\CART-Azure-IAAS\\regulations\\Reg_AA (Unfair or Deceptive Acts or Practices)\\archive\\Regulation_AA.pdf\", \"file_name\": \"Regulation_AA.pdf\"},\n",
    "#     {\"regulation_name\": \"Reg B\", \"path\": r\"C:\\GenAI\\CART-Azure-IAAS\\regulations\\Reg_B (Equal Credit Opportunity Act - ECOA)\\fair_lend_reg_b.pdf\", \"file_name\": \"fair_lend_reg_b.pdf\"},\n",
    "#     {\"regulation_name\": \"Reg C\", \"path\": r\"C:\\GenAI\\CART-Azure-IAAS\\regulations\\Reg_C (Home Mortgage Disclosure Act - HMDA)\\cfpb_hmda_small-entity-compliance-guide.pdf\", \"file_name\": \"cfpb_hmda_small-entity-compliance-guide.pdf\"},\n",
    "#     {\"regulation_name\": \"Reg C\", \"path\": r\"C:\\GenAI\\CART-Azure-IAAS\\regulations\\Reg_C (Home Mortgage Disclosure Act - HMDA)\\CFR-2024-title12-vol8-part1003.pdf\", \"file_name\": \"CFR-2024-title12-vol8-part1003.pdf\"}\n",
    "# ]\n",
    "\n",
    "# # Loop through each regulation and process the files\n",
    "# for file_info in regulation_files:\n",
    "#     print(f\"Processing {file_info['regulation_name']} - {file_info['file_name']}...\")\n",
    "\n",
    "#     # Load the PDF for the current regulation\n",
    "#     reg_loader = PyPDFLoader(file_info[\"path\"])\n",
    "#     reg_documents = reg_loader.load()\n",
    "\n",
    "#     # Split the documents into chunks\n",
    "#     text_splitter = RecursiveCharacterTextSplitter(chunk_size=1000, chunk_overlap=200)\n",
    "#     reg_text_chunks = text_splitter.split_documents(reg_documents)\n",
    "\n",
    "#     # Add metadata to each chunk\n",
    "#     for i, chunk in enumerate(reg_text_chunks):\n",
    "#         chunk.metadata = {\n",
    "#             \"source\": file_info[\"path\"],\n",
    "#             \"document_type\": \"Regulation\",\n",
    "#             \"regulation_name\": file_info[\"regulation_name\"],  # Use regulation name as metadata\n",
    "#             \"file_name\": file_info[\"file_name\"],\n",
    "#             \"chunk_index\": i  # Track chunk index\n",
    "#         }\n",
    "\n",
    "#     # Convert the documents to the format AzureSearch expects\n",
    "#     azure_documents = [\n",
    "#         Document(page_content=doc.page_content, metadata=doc.metadata) for doc in reg_text_chunks\n",
    "#     ]\n",
    "\n",
    "#     # Upload the chunks to Azure Cognitive Search\n",
    "#     print(f\"Uploading {len(azure_documents)} chunks for {file_info['file_name']} to Azure Cognitive Search...\")\n",
    "#     Azure_Client.add_documents(azure_documents)\n",
    "\n",
    "# print(\"All regulation documents uploaded to Azure Cognitive Search.\")\n"
   ]
  },
  {
   "cell_type": "markdown",
   "metadata": {},
   "source": [
    "### Prompt Templates"
   ]
  },
  {
   "cell_type": "code",
   "execution_count": 37,
   "metadata": {},
   "outputs": [],
   "source": [
    "Reg_AA_prompt_template = \"\"\"\n",
    "                                    You are an expert in CFPB regulations. Given data is the context of Regulation AA.\n",
    "                                    Context:{context}\n",
    "                                    Does the following complaint fall under Regulation AA?\n",
    "                                    Complaint:\"{complaint}\"       \n",
    "            \n",
    "                                    Answer with 'Yes' or 'No'. \n",
    "\n",
    "                                    Provide an explanation. Make sure the explanation ends in four or less that four sentences.\n",
    "                                    Explanation:\n",
    "                                    \n",
    "                                    Please return the answer in the following dictionary format:\n",
    "                                    {{\"Answer\": \"Yes\" or \"No\", \"Explanation\": \"Your explanation here.\"}}\n",
    "\n",
    "                                    Do not return anything except the dictionary.\n",
    "                                \"\"\"\n",
    "\n",
    "Reg_B_prompt_template =      \"\"\"\n",
    "                                You are an expert in CFPB regulations. Given data is the context of Regulation B, Equal Credit Opportunity Act - ECOA.\n",
    "                                Context:{context}\n",
    "                                 Does the following complaint fall under Regulation B, Equal Credit Opportunity Act - ECOA? \n",
    "                                Complaint:\"{complaint}\"       \n",
    "                \n",
    "                                Answer with 'Yes' or 'No'. \n",
    "                \n",
    "                                Provide an explanation. The explanation should be based on the context. Make sure the explanation ends in four or less than four sentences.\n",
    "                                Explanation:\n",
    "                                \n",
    "                                Please return the answer in the following dictionary format:\n",
    "                                {{\"Answer\": \"Yes\" or \"No\", \"Explanation\": \"Your explanation here.\"}}\n",
    "\n",
    "                                Do not return anything except the dictionary.\n",
    "                             \"\"\"\n",
    "\n",
    "Reg_C_prompt_template = \"\"\"\n",
    "                                You are an expert in CFPB regulations. Given data is the context of Regulation C, Home Mortgage Disclosure Act - HMDA.\n",
    "                                Context:{context}\n",
    "                                Does the following complaint fall under Regulation C, Home Mortgage Disclosure Act - HMDA? \n",
    "                                Complaint:\"{complaint}\"       \n",
    "        \n",
    "                                Answer with 'Yes' or 'No'. \n",
    "        \n",
    "                                Provide an explanation.The explaination should be based on the context. Make sure the explanation ends in four or less that four sentences.\n",
    "                                Explanation:\n",
    "                                \n",
    "                                Please return the answer in the following dictionary format:\n",
    "                                {{\"Answer\": \"Yes\" or \"No\", \"Explanation\": \"Your explanation here.\"}}\n",
    "\n",
    "                                Do not return anything except the dictionary. Strictly a dictionary.\n",
    "                             \"\"\"\n",
    "\n",
    "Reg_AA_PROMPT      = PromptTemplate(template=Reg_AA_prompt_template, input_variables=[\"context\", \"complaint\"])\n",
    "Reg_B_PROMPT       = PromptTemplate(template=Reg_B_prompt_template, input_variables=[\"context\", \"complaint\"])\n",
    "Reg_C_PROMPT       = PromptTemplate(template=Reg_C_prompt_template, input_variables=[\"context\", \"complaint\"])\n"
   ]
  },
  {
   "cell_type": "markdown",
   "metadata": {},
   "source": [
    "### Create a chain and a retriever"
   ]
  },
  {
   "cell_type": "code",
   "execution_count": 38,
   "metadata": {},
   "outputs": [],
   "source": [
    "# Reg AA Retriever and Chain\n",
    "Reg_AA_Retriever = Azure_Client.as_retriever(search_type=\"similarity\", search_kwargs={\"filter\": \"regulation_name eq 'Reg AA'\"})\n",
    "Reg_AA_chain = (\n",
    "                    {\"context\": Reg_AA_Retriever, \"complaint\": RunnablePassthrough()}\n",
    "                    | Reg_AA_PROMPT\n",
    "                    | llm\n",
    "               )\n",
    "\n",
    "# Reg B Retriever and Chain\n",
    "Reg_B_Retriever = Azure_Client.as_retriever(search_type=\"similarity\", search_kwargs={\"filter\": \"regulation_name eq 'Reg B'\"})\n",
    "Reg_B_chain = (\n",
    "                    {\"context\": Reg_B_Retriever, \"complaint\": RunnablePassthrough()}\n",
    "                    | Reg_B_PROMPT\n",
    "                    | llm\n",
    "               )\n",
    "\n",
    "# Reg C Retriever and Chain\n",
    "Reg_C_Retriever = Azure_Client.as_retriever(search_type=\"similarity\", search_kwargs={\"filter\": \"regulation_name eq 'Reg C'\"})\n",
    "Reg_C_chain = (\n",
    "                    {\"context\": Reg_C_Retriever, \"complaint\": RunnablePassthrough()}\n",
    "                    | Reg_C_PROMPT\n",
    "                    | llm\n",
    "               )"
   ]
  },
  {
   "cell_type": "markdown",
   "metadata": {},
   "source": [
    "### Classifying complaints"
   ]
  },
  {
   "cell_type": "code",
   "execution_count": 39,
   "metadata": {},
   "outputs": [
    {
     "name": "stdout",
     "output_type": "stream",
     "text": [
      "Connecting to SQL Server.\n",
      "Established  Connection to the CART Database in SQL Server.\n"
     ]
    }
   ],
   "source": [
    "############################################################# Connecting to SQL Server ################################################################\n",
    "print(\"Connecting to SQL Server.\")\n",
    "server    = 'DESKTOP-VONKKUH'  # e.g., 'localhost\\SQLEXPRESS'\n",
    "database  = 'CART'  # e.g., 'CART_DB'\n",
    "driver    = '{ODBC Driver 17 for SQL Server}'  # Ensure you have the correct ODBC driver installed\n",
    "conn      = pyodbc.connect(f'DRIVER={driver};SERVER={server};DATABASE={database};Trusted_Connection=yes;')\n",
    "print(\"Established  Connection to the CART Database in SQL Server.\")"
   ]
  },
  {
   "cell_type": "code",
   "execution_count": 40,
   "metadata": {},
   "outputs": [
    {
     "data": {
      "text/plain": [
       "'I never agreed to information sharing with a company I never agreed or signed a legal binding contract with XXXXXXXX XXXX I never signed a contract with this company My information was shared by Navy federal without my permission XXXX stole my information They do not have my permission to report inaccurate accounts with balances Thats a charge off And late payments is violated my consumer rights'"
      ]
     },
     "execution_count": 40,
     "metadata": {},
     "output_type": "execute_result"
    }
   ],
   "source": [
    "complaint_text = \"I never agreed to information sharing with a company I never agreed or signed a legal binding contract with XXXXXXXX XXXX I never signed a contract with this company My information was shared by Navy federal without my permission XXXX stole my information They do not have my permission to report inaccurate accounts with balances Thats a charge off And late payments is violated my consumer rights\"\n",
    "complaint_text"
   ]
  },
  {
   "cell_type": "code",
   "execution_count": 41,
   "metadata": {},
   "outputs": [],
   "source": [
    "def classify_complaint(complaint_text,chain):\n",
    "    response = chain.invoke(complaint_text).content\n",
    "    response = json.loads(response)\n",
    "    if response['Answer'].lower() == \"yes\":\n",
    "        answer = 1\n",
    "    elif response['Answer'].lower() == \"no\":\n",
    "        answer = 0\n",
    "    else:\n",
    "        answer = None\n",
    "    regulation_explanation = response[\"Explanation\"]\n",
    "    return answer, regulation_explanation"
   ]
  },
  {
   "cell_type": "code",
   "execution_count": 42,
   "metadata": {},
   "outputs": [
    {
     "data": {
      "text/plain": [
       "{'Answer': 'Yes',\n",
       " 'Explanation': \"The complaint involves issues related to information sharing, inaccurate reporting, and violation of consumer rights, which are covered under Regulation AA's standards for unfair or deceptive acts or practices.\"}"
      ]
     },
     "execution_count": 42,
     "metadata": {},
     "output_type": "execute_result"
    }
   ],
   "source": [
    "response = Reg_AA_chain.invoke(complaint_text).content\n",
    "response = json.loads(response)\n",
    "response\n",
    "\n"
   ]
  },
  {
   "cell_type": "code",
   "execution_count": 43,
   "metadata": {},
   "outputs": [
    {
     "data": {
      "text/plain": [
       "{'Answer': 'No',\n",
       " 'Explanation': 'The complaint does not specifically relate to any violation of Regulation B, Equal Credit Opportunity Act - ECOA. It appears to be more focused on issues related to information sharing and inaccurate reporting of accounts, which may fall under other regulations or laws.'}"
      ]
     },
     "execution_count": 43,
     "metadata": {},
     "output_type": "execute_result"
    }
   ],
   "source": [
    "response = Reg_B_chain.invoke(complaint_text).content\n",
    "response = json.loads(response)\n",
    "response\n"
   ]
  },
  {
   "cell_type": "code",
   "execution_count": 44,
   "metadata": {},
   "outputs": [
    {
     "data": {
      "text/plain": [
       "{'Answer': 'No',\n",
       " 'Explanation': 'The complaint does not pertain to Regulation C, Home Mortgage Disclosure Act - HMDA. It is related to information sharing and inaccurate reporting of accounts, which falls under other regulations such as Fair Credit Reporting Act (FCRA) and Fair Debt Collection Practices Act (FDCPA).'}"
      ]
     },
     "execution_count": 44,
     "metadata": {},
     "output_type": "execute_result"
    }
   ],
   "source": [
    "response = Reg_C_chain.invoke(complaint_text).content\n",
    "response = json.loads(response)\n",
    "response"
   ]
  }
 ],
 "metadata": {
  "kernelspec": {
   "display_name": "cart_azure",
   "language": "python",
   "name": "python3"
  },
  "language_info": {
   "codemirror_mode": {
    "name": "ipython",
    "version": 3
   },
   "file_extension": ".py",
   "mimetype": "text/x-python",
   "name": "python",
   "nbconvert_exporter": "python",
   "pygments_lexer": "ipython3",
   "version": "3.11.9"
  }
 },
 "nbformat": 4,
 "nbformat_minor": 2
}
